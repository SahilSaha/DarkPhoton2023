{
 "cells": [
  {
   "cell_type": "code",
   "execution_count": 1,
   "id": "5748f452",
   "metadata": {},
   "outputs": [],
   "source": [
    "import numpy as np\n",
    "import uproot\n",
    "import matplotlib.pyplot as plt"
   ]
  },
  {
   "cell_type": "code",
   "execution_count": 2,
   "id": "784265cb",
   "metadata": {},
   "outputs": [
    {
     "name": "stdout",
     "output_type": "stream",
     "text": [
      "Background: 35239102\n"
     ]
    }
   ],
   "source": [
    "mcname = '../../GRIDBKG/rec_exp20-26_4S_v2_v1.root'\n",
    "\n",
    "datmc = uproot.open(mcname)\n",
    "\n",
    "filemc = datmc['mumu'].arrays(library='np')\n",
    "\n",
    "print(\"Background:\", len(filemc['__experiment__']))"
   ]
  },
  {
   "cell_type": "code",
   "execution_count": 3,
   "id": "62323611",
   "metadata": {},
   "outputs": [],
   "source": [
    "epsilon = np.linspace(1e-4, 4e-3, 50)\n",
    "m = [0.4, 0.6, 0.8, 1, 2, 4, 6, 8, 9]\n",
    "lumi = 514\n",
    "bkglumi = 699"
   ]
  },
  {
   "cell_type": "code",
   "execution_count": 4,
   "id": "6748aefe",
   "metadata": {},
   "outputs": [],
   "source": [
    "mcbkgarr = []\n",
    "\n",
    "bkg = [[] for i in range(len(m))] \n",
    "bkgsel = [[] for i in range(len(m))]\n",
    "\n",
    "#SELECTED BACKGROUND\n",
    "bkgselect = [[] for i in range(len(m))]\n",
    "\n",
    "for k in range(int(len(filemc['ap_InvM'])*lumi/bkglumi)):\n",
    "    choice = np.random.randint(0,len(filemc['ap_InvM']))\n",
    "    mcbkgarr.append(filemc['ap_InvM'][choice])\n",
    "\n",
    "# for j in range(len(m)):\n",
    "\n",
    "#     range_ = (0.95*m[j], 1.05*m[j])\n",
    "\n",
    "#     bins_ = 30\n",
    "            \n",
    "#     for p in mcbkgarr:\n",
    "#         if p>range_[0] and p<range_[1]:\n",
    "#             bkg[j].append(p)"
   ]
  },
  {
   "cell_type": "code",
   "execution_count": 5,
   "id": "feba9bf0",
   "metadata": {},
   "outputs": [],
   "source": [
    "import numpy as np\n",
    "\n",
    "for j in range(len(m)):\n",
    "    my_array = bkg[j]\n",
    "\n",
    "    file_path = 'output' + str(m[j]) + '_514.txt'\n",
    "\n",
    "    np.savetxt(file_path, my_array, fmt='%f', delimiter=',')\n"
   ]
  },
  {
   "cell_type": "code",
   "execution_count": 6,
   "id": "111a6692",
   "metadata": {},
   "outputs": [],
   "source": [
    "hist, bins = np.histogram(mcbkgarr, bins = 100)"
   ]
  },
  {
   "cell_type": "code",
   "execution_count": 7,
   "id": "eb162b4e",
   "metadata": {},
   "outputs": [],
   "source": [
    "bins = bins[:-1] + np.diff(bins)/2"
   ]
  },
  {
   "cell_type": "code",
   "execution_count": 8,
   "id": "3f6b4641",
   "metadata": {},
   "outputs": [
    {
     "data": {
      "text/plain": [
       "Text(0.5, 0, \"$m_{A'} \\\\; (GeV)$\")"
      ]
     },
     "execution_count": 8,
     "metadata": {},
     "output_type": "execute_result"
    },
    {
     "data": {
      "image/png": "[encoded data removed]",
      "text/plain": [
       "<Figure size 640x480 with 1 Axes>"
      ]
     },
     "metadata": {},
     "output_type": "display_data"
    }
   ],
   "source": [
    "plt.plot(bins, hist, 'o')\n",
    "plt.xlim(0,10)\n",
    "plt.yscale('log')\n",
    "plt.ylim(3e4,2e6)\n",
    "plt.title(r\"514 fb$^{-1}$ Background\")\n",
    "plt.xlabel(r\"$m_{A'} \\; (GeV)$\")"
   ]
  },
  {
   "cell_type": "code",
   "execution_count": null,
   "id": "e716f835",
   "metadata": {},
   "outputs": [],
   "source": []
  },
  {
   "cell_type": "code",
   "execution_count": null,
   "id": "21433300",
   "metadata": {},
   "outputs": [],
   "source": []
  },
  {
   "cell_type": "code",
   "execution_count": null,
   "id": "fda4b396",
   "metadata": {},
   "outputs": [],
   "source": []
  },
  {
   "cell_type": "code",
   "execution_count": null,
   "id": "e7bbcc21",
   "metadata": {},
   "outputs": [],
   "source": []
  },
  {
   "cell_type": "code",
   "execution_count": null,
   "id": "6791aa22",
   "metadata": {},
   "outputs": [],
   "source": []
  },
  {
   "cell_type": "code",
   "execution_count": null,
   "id": "0d6937fc",
   "metadata": {},
   "outputs": [],
   "source": []
  }
 ],
 "metadata": {
  "kernelspec": {
   "display_name": "Python 3 (ipykernel)",
   "language": "python",
   "name": "python3"
  },
  "language_info": {
   "codemirror_mode": {
    "name": "ipython",
    "version": 3
   },
   "file_extension": ".py",
   "mimetype": "text/x-python",
   "name": "python",
   "nbconvert_exporter": "python",
   "pygments_lexer": "ipython3",
   "version": "3.10.9"
  }
 },
 "nbformat": 4,
 "nbformat_minor": 5
}
